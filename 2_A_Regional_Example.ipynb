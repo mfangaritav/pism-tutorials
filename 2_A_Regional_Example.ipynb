{
 "cells": [
  {
   "cell_type": "markdown",
   "id": "130a9566-0075-4026-8b04-208e37bf3480",
   "metadata": {},
   "source": [
    "# Create a PISM domain from a polygon based on the BedMachine v5 grid\n",
    "\n",
    "Calibration of flow parameters by sector. We could use this for auto-calibration."
   ]
  },
  {
   "cell_type": "code",
   "execution_count": null,
   "id": "3c30b747-afa8-4717-90e9-f0b22f96fed0",
   "metadata": {},
   "outputs": [],
   "source": [
    "from pathlib import Path\n",
    "import re\n",
    "\n",
    "import cartopy\n",
    "import cartopy.crs as ccrs\n",
    "import geopandas as gp\n",
    "import numpy as np\n",
    "import matplotlib.pylab as plt\n",
    "import pandas as pd\n",
    "from pyDOE2 import lhs\n",
    "from scipy.stats.distributions import randint, uniform\n",
    "from shapely.geometry import Polygon\n",
    "import xarray as xr\n",
    "\n",
    "from pism_tutorials.domain import create_local_grid, get_bounds\n",
    "from pism_tutorials.plotting import register_colormaps\n",
    "from pism_tutorials.utils import merge_dicts, dict2str, sort_dict_by_key\n",
    "\n",
    "xr.set_options(keep_attrs=True)\n",
    "\n",
    "register_colormaps()"
   ]
  },
  {
   "cell_type": "code",
   "execution_count": null,
   "id": "26208d32-44c0-4b9b-9494-40b8ece923a2",
   "metadata": {},
   "outputs": [],
   "source": [
    "# The name of the PISM Cloud S3 bucket\n",
    "bucket_name = \"pism-cloud-data\"\n",
    "! aws s3 sync --no-sign-request s3://pism-cloud-data/tutorial_files  tutorial_files"
   ]
  },
  {
   "cell_type": "code",
   "execution_count": null,
   "id": "686820af-046e-42c3-8e19-49e127be158a",
   "metadata": {},
   "outputs": [],
   "source": [
    "# Coordinate Reference System \n",
    "crs = \"EPSG:3413\"\n",
    "\n",
    "# the base resolution of BedMachine in meters\n",
    "base_resolution: int = 150\n",
    "\n",
    "# the resolutions that you want supported:\n",
    "# 150, 300, 450, 600, 900, 1200, 1500, 1800, 2400, 3000, 3600, and 4500m\n",
    "multipliers = [1, 2, 3, 4, 6, 8, 10, 12, 16, 20, 24, 30, 40, 60]\n",
    "max_mult = multipliers[-1]\n",
    "\n",
    "# buffer in m\n",
    "buffer = 3e3\n",
    "\n",
    "# Path to BedMachine file, open using xarray\n",
    "ds = xr.open_dataset(\"tutorial_files/BedMachineGreenland-v5.nc\")\n",
    "ds = ds.rio.set_spatial_dims(x_dim=\"x\", y_dim=\"y\")\n",
    "ds.rio.write_crs(crs, inplace=True)\n",
    "\n",
    "x_main_bounds, y_main_bounds = get_bounds(ds, multipliers=multipliers)"
   ]
  },
  {
   "cell_type": "code",
   "execution_count": null,
   "id": "9922ca1f-edde-42b0-93fc-0f259ce30f95",
   "metadata": {},
   "outputs": [],
   "source": [
    "# Path to polygon file, open using GeoPandas\n",
    "domains_gp = gp.read_file(\"tutorial_files/Greenland_Basins_PS_v1.4.2_w_shelves.gpkg\").to_crs(crs).dropna(subset=[\"SUBREGION1\"])\n",
    "domains_gp.drop(domains_gp[domains_gp['SUBREGION1'].isin([\"GIS\"])].index, inplace=True)\n",
    "print(domains_gp)"
   ]
  },
  {
   "cell_type": "code",
   "execution_count": null,
   "id": "de9c1793-6f38-4ec2-9c21-cdda89ccbbb5",
   "metadata": {},
   "outputs": [],
   "source": [
    "# Basic example:\n",
    "# We loop over all basins in the \"basins\" geopandas dataframe assuming that an \"Name\" attribute exists.\n",
    "# First we add the buffer, then we extract the bounding box, and finally we calculate the domain and \n",
    "# save it as a netCDF file.\n",
    "\n",
    "# This should be parallelized with Dask in the future.\n",
    "\n",
    "cartopy_crs = ccrs.NorthPolarStereo(central_longitude=-45, true_scale_latitude=70, globe=None)\n",
    "for m_id, domain in domains_gp.iterrows():\n",
    "    name = domain[\"SUBREGION1\"]\n",
    "    print(f\"Processing sector {name}\")\n",
    "    grid = create_local_grid(domain, ds, base_resolution=base_resolution, multipliers=multipliers, buffer=3e3)\n",
    "    grid.attrs.update({\"domain\": name})\n",
    "    grid.to_netcdf(f\"domain_{name}.nc\", engine=\"h5netcdf\")\n",
    "    x_point_list = [grid.x_bnds[0][0], grid.x_bnds[0][0], grid.x_bnds[0][1], grid.x_bnds[0][1], grid.x_bnds[0][0]]\n",
    "    y_point_list = [grid.y_bnds[0][0], grid.y_bnds[0][1], grid.y_bnds[0][1], grid.y_bnds[0][0], grid.y_bnds[0][0]]\n",
    "    polygon_geom = Polygon(zip(x_point_list, y_point_list))\n",
    "    polygon = gp.GeoDataFrame(index=[0], crs=crs, geometry=[polygon_geom])\n",
    "    polygon.to_file(f\"domain_{name}.gpkg\")\n",
    "\n"
   ]
  },
  {
   "cell_type": "code",
   "execution_count": null,
   "id": "71151260-807b-476f-acf6-780bad8cbb6b",
   "metadata": {},
   "outputs": [],
   "source": [
    "n_samples = 1\n",
    "\n",
    "flow_params_prior = {\n",
    "            \"basal_resistance.pseudo_plastic.q\": uniform(0.25, 0.75),\n",
    "            \"basal_yield_stress.mohr_coulomb.till_effective_fraction_overburden\": uniform(\n",
    "                loc=0.01, scale=0.03\n",
    "            ),\n",
    "            \"basal_yield_stress.mohr_coulomb.topg_to_phi.phi_max\": uniform(\n",
    "                loc=40.0, scale=20.0\n",
    "            ),\n",
    "            \"basal_yield_stress.mohr_coulomb.topg_to_phi.phi_min\": uniform(\n",
    "                loc=5.0, scale=30.0\n",
    "            ),\n",
    "            \"basal_yield_stress.mohr_coulomb.topg_to_phi.topg_min\": uniform(\n",
    "                loc=-1000, scale=1000\n",
    "            ),\n",
    "            \"basal_yield_stress.mohr_coulomb.topg_to_phi.topg_max\": uniform(\n",
    "                loc=0, scale=1500\n",
    "            ),\n",
    "            \"basal_yield_stress.mohr_coulomb.topg_to_phi.phi_min\": uniform(loc=5.0, scale=30.0),\n",
    "            \"basal_yield_stress.mohr_coulomb.topg_to_phi.phi_max\": uniform(loc=40.0, scale=20.0),  \n",
    "            \"basal_yield_stress.mohr_coulomb.topg_to_phi.topg_min\": uniform(loc=-1000, scale=1000), \n",
    "            \"basal_yield_stress.mohr_coulomb.topg_to_phi.topg_max\": uniform(loc=0, scale=1500), \n",
    "            \"stress_balance.sia.enhancement_factor\": uniform(loc=1.0, scale=3.0),\n",
    "            \"stress_balance.ssa.Glen_exponent\": uniform(loc=2.75, scale=0.75),\n",
    "            \"stress_balance.sia.Glen_exponent\": uniform(loc=1.0, scale=3.0),\n",
    "        }\n",
    "\n",
    "keys_prior = list(flow_params_prior.keys())\n",
    "print(\"Prior Keys\")\n",
    "print(\"-\" * 80)\n",
    "print(\"\\n\".join([k for k in keys_prior]))\n",
    "\n",
    "\n",
    "unif_sample = lhs(len(keys_prior), n_samples)\n",
    "dist_sample = np.zeros_like(unif_sample)\n",
    "for i, key in enumerate(keys_prior):\n",
    "    dist_sample[:, i] = flow_params_prior[key].ppf(unif_sample[:, i])\n",
    "\n",
    "uq_df = pd.DataFrame(dist_sample, columns=flow_params_prior.keys())\n",
    "\n",
    "master_config_file = \"tutorial_files/pism_config.nc\"\n",
    "\n",
    "def check_params(d: dict) -> None:\n",
    "    print(\"\\nChecking parameters\")\n",
    "    print(\"------------------------------------------------------------\")\n",
    "    with xr.open_dataset(master_config_file) as m_ds:\n",
    "        for key in d:\n",
    "            if hasattr(m_ds[\"pism_config\"], key) is False:\n",
    "                print(f\"  - {key} not found in pism_config\")\n",
    "    print(\"------------------------------------------------------------\\n\")\n",
    "\n",
    "flow_params_median = {\n",
    "            \"basal_resistance.pseudo_plastic.q\": 0.7508221,\n",
    "            \"basal_yield_stress.mohr_coulomb.till_effective_fraction_overburden\": 0.01845403,\n",
    "            \"basal_yield_stress.mohr_coulomb.topg_to_phi.phi_max\": 42.79528,\n",
    "            \"basal_yield_stress.mohr_coulomb.topg_to_phi.phi_min\": 7.193718,\n",
    "            \"basal_yield_stress.mohr_coulomb.topg_to_phi.topg_max\": 243.8239,\n",
    "            \"basal_yield_stress.mohr_coulomb.topg_to_phi.topg_min\": -369.6359,\n",
    "            \"stress_balance.sia.enhancement_factor\": 2.608046,\n",
    "            \"stress_balance.ssa.Glen_exponent\": 3.309718,\n",
    "        }\n",
    "median_df = pd.DataFrame([ list(flow_params_median.values())], columns=list(flow_params_median.keys()))\n",
    "print(median_df)"
   ]
  },
  {
   "cell_type": "code",
   "execution_count": null,
   "id": "3a2ea4c5-5b20-4074-aa51-d6aebc9f69dd",
   "metadata": {},
   "outputs": [],
   "source": [
    "resolution = \"3600m\"  # a coarse resolution such that we can run the simulation on a desktop computer\n",
    "\n",
    "output_dir = Path(f\"testing_{resolution}\")\n",
    "output_dir.mkdir(parents=True, exist_ok=True)\n",
    "\n",
    "extra_file = \"\"\n",
    "start = \"2015-01-01\"\n",
    "end = \"2015-02-01\"\n",
    "\n",
    "input_params = {\n",
    "    \"bootstrap\": \"\",\n",
    "    \"regional\": \"\",\n",
    "#    \"i\": \"tutorial_files/BedMachineGreenland-v5.nc\",\n",
    "    \"i\": \"tutorial_files/g1200m_id_BAYES-MEDIAN_1980-1-1_1984-12-31.nc\",\n",
    "    \"input.regrid.file\": \"tutorial_files/g1200m_id_BAYES-MEDIAN_1980-1-1_1984-12-31.nc\",\n",
    "    \"input.regrid.vars\": \"litho_temp,enthalpy,age,tillwat,bmelt,ice_area_specific_volume,thk\"\n",
    "}\n",
    "\n",
    "grid_params = {\n",
    "    \"grid.dx\": resolution,\n",
    "    \"grid.dy\": resolution,\n",
    "    \"grid.Mz\": 201,\n",
    "    \"grid.Lz\": 4000,\n",
    "    \"grid.Mbz\": 21,\n",
    "    \"grid.Lbz\": 1000,\n",
    "    \"grid.file\": None\n",
    "}\n",
    "\n",
    "time_params = {\n",
    "    \"time.start\": start,\n",
    "    \"time.end\": end,\n",
    "    \"time.calendar\": \"standard\",\n",
    "    \"time_stepping.skip.enabled\": \"\",\n",
    "    \"time_stepping.skip.max\": 100\n",
    "}\n",
    "\n",
    "climate_params = {\n",
    "    \"surface.models\": \"given,forcing\",\n",
    "    \"surface.given.file\": \"tutorial_files/MARv3.9_ERAI_climate_1978-2018_MEAN.nc\",\n",
    "#    \"surface.force_to_thickness.file\": \"tutorial_files/BedMachineGreenland-v5.nc\",\n",
    "    \"surface.force_to_thickness.file\": \"tutorial_files/g1200m_id_BAYES-MEDIAN_1980-1-1_1984-12-31.nc\",\n",
    "}\n",
    "\n",
    "stress_balance = {\n",
    "    \"stress_balance\": \"ssa+sia\",\n",
    "    \"stress_balance.calving_front_stress_bc\": \"\",  \n",
    "    \"stress_balance.ice_free_thickness_standard\": 5,\n",
    "    \"stress_balance.sia.bed_smoother.range\": resolution[:-1], \n",
    "    \"stress_balance.sia.enhancement_factor\": 2.608046,\n",
    "    \"stress_balance.sia.flow_law\": \"gpbld\",\n",
    "    \"stress_balance.ssa.Glen_exponent\": 3.309718,\n",
    "    \"stress_balance.ssa.enhancement_factor\": 1.0,\n",
    "    \"stress_balance.sia.max_diffusivity\": 100000,\n",
    "    \"basal_resistance.pseudo_plastic.enabled\": \"yes\",\n",
    "    \"basal_resistance.pseudo_plastic.q\": 0.7508221,\n",
    "    \"basal_yield_stress.mohr_coulomb.till_effective_fraction_overburden\": 0.01845403,\n",
    "    \"basal_yield_stress.mohr_coulomb.topg_to_phi.enabled\": \"yes\",\n",
    "    \"basal_yield_stress.mohr_coulomb.topg_to_phi.phi_max\": 42.79528,\n",
    "    \"basal_yield_stress.mohr_coulomb.topg_to_phi.phi_min\": 7.193718, \n",
    "    \"basal_yield_stress.mohr_coulomb.topg_to_phi.topg_max\": 243.8239, \n",
    "    \"basal_yield_stress.mohr_coulomb.topg_to_phi.topg_min\": -369.6359, \n",
    "}\n",
    "\n",
    "output_params = {\n",
    "    \"output.file\": None,  # do not write a state file\n",
    "    \"output.format\": \"netcdf4_parallel\",\n",
    "    \"output.extra.file\": None,\n",
    "    \"output.extra.times\": \"yearly\",\n",
    "    \"output.extra.vars\": \"velsurf_mag,usurf,thk,climatic_mass_balance,ice_surface_temp,mask,mass_fluxes,ice_mass_transport_across_grounding_line,ice_mass\",\n",
    "}\n",
    "\n",
    "run_dict = merge_dicts(input_params, grid_params, time_params, stress_balance,climate_params, output_params)\n",
    "\n"
   ]
  },
  {
   "cell_type": "code",
   "execution_count": null,
   "id": "a9ca6ae5-72b4-4df5-a84b-421791087e67",
   "metadata": {},
   "outputs": [],
   "source": [
    "n = 8\n",
    "for m_id, domain in domains_gp.iterrows():\n",
    "    name = domain[\"SUBREGION1\"]\n",
    "    print(f\"Running domain {name}\")\n",
    "    print(\"-\" * 80)\n",
    "    for s_id, sample in median_df.iterrows():\n",
    "        print(\"\\n\")\n",
    "        print(\"Parameters\")\n",
    "        print(sample)\n",
    "        print(\"\\n\")\n",
    "        \n",
    "        run_dict.update(sample.to_dict())\n",
    "        state_file = Path(output_dir) / f\"state_g{resolution}_sector_{name}_id_{s_id}.nc\"\n",
    "        spatial_file = Path(output_dir) / f\"spatial_g{resolution}_sector_{name}_id_{s_id}.nc\"\n",
    "        run_dict.update({\"grid.file\": f\"domain_{name}.nc\", \"output.file\": state_file, \"output.extra.file\": spatial_file})\n",
    "        run_str = dict2str(sort_dict_by_key(run_dict))\n",
    "        cmd = f\"mpirun -np {n} pism \" + run_str\n",
    "        ! $cmd    \n",
    "        # for s_id, sample in uq_df.iterrows():\n",
    "        # run_dict.update(sample.to_dict())\n",
    "        # state_file = Path(output_dir) / f\"state_g{resolution}_sector_{name}_id_{s_id}.nc\"\n",
    "        # spatial_file = Path(output_dir) / f\"spatial_g{resolution}_sector_{name}_id_{s_id}.nc\"\n",
    "        # run_dict.update({\"grid.file\": f\"domain_{name}.nc\", \"output.file\": state_file, \"output.extra.file\": spatial_file})\n",
    "        # run_str = dict2str(sort_dict_by_key(run_dict))\n",
    "        # cmd = f\"mpirun -np {n} pism \" + run_str\n",
    "        # ! $cmd"
   ]
  },
  {
   "cell_type": "code",
   "execution_count": null,
   "id": "090a9d5c-3cbe-4ef1-97e9-e7d5788b85c0",
   "metadata": {},
   "outputs": [],
   "source": [
    "state_files = output_dir.glob(f\"state_g{resolution}_*_id_0.nc\")\n",
    "\n",
    "\n",
    "time_coder = xr.coders.CFDatetimeCoder(use_cftime=True)\n",
    "\n",
    "main_domain = create_domain(x_main_bounds, y_main_bounds, resolution=int(resolution.split(\"m\")[0]))\n",
    "\n",
    "\n",
    "cartopy_crs = ccrs.NorthPolarStereo(central_longitude=-45, true_scale_latitude=70, globe=None)\n",
    "\n",
    "fig = plt.figure(figsize=(12, 6))\n",
    "ax = fig.add_subplot(111, projection=cartopy_crs)\n",
    "states_clipped = []\n",
    "for k, state_file in enumerate(state_files):\n",
    "    domain_str = re.search(\"sector_(.+?)_\", str(state_file)).group(1)\n",
    "    domain_gp = domains_gp[domains_gp[\"SUBREGION1\"].isin([domain_str])]\n",
    "    add_colorbar = bool(k==0)\n",
    "    print(f\"Processing {domain_str} {state_file}\")\n",
    "    state_ds = xr.open_dataset(state_file, ).rio.set_spatial_dims(x_dim=\"x\", y_dim=\"y\")\n",
    "    state_ds.rio.write_crs(crs, inplace=True)\n",
    "    state_main_ds = state_ds.interp_like(main_domain)\n",
    "    state_clipped_ds = state_main_ds.rio.clip(domain_gp.geometry, drop=False)\n",
    "    state_clipped_ds = state_clipped_ds.expand_dims(\"sector\")\n",
    "    state_clipped_ds[\"sector\"] = [domain_str]    \n",
    "    print(state_clipped_ds.x[0])\n",
    "    state_clipped_ds[\"velsurf_mag\"].plot(ax=ax, vmin=10, vmax=1500, cmap=\"speed_colorblind\", add_colorbar=add_colorbar)\n",
    "    domain_gp.plot(ax=ax, facecolor=\"none\", edgecolor=\"black\", linewidth=0.25)\n",
    "    states_clipped.append(state_clipped_ds)"
   ]
  },
  {
   "cell_type": "code",
   "execution_count": null,
   "id": "8bd02fbc-3609-4256-a044-bd20c953f776",
   "metadata": {},
   "outputs": [],
   "source": []
  },
  {
   "cell_type": "code",
   "execution_count": null,
   "id": "49f7034a-fedd-4e06-a9b2-2a2f1775c96b",
   "metadata": {},
   "outputs": [],
   "source": [
    "from collections import deque\n",
    "dq = deque(states_clipped)\n",
    "rotations = []\n",
    "ms = []\n",
    "\n",
    "\n",
    "for k in range(len(states_clipped)):\n",
    "    rotations.append(list(dq))  # Convert deque to list and store\n",
    "    m = xr.merge(list(dq), join=\"outer\", compat='override')\n",
    "    m=m.expand_dims(\"sector\")\n",
    "    m[\"sector\"] = [k]\n",
    "    ms.append(m)\n",
    "    dq.rotate(-1)  "
   ]
  },
  {
   "cell_type": "code",
   "execution_count": null,
   "id": "4d27b73d-401f-4ca5-afdd-86a44ffc85ed",
   "metadata": {},
   "outputs": [],
   "source": [
    "xr.merge(ms, compat=\"override\").sum(dim=\"sector\")[\"velsurf_mag\"].plot(vmin=10, vmax=1500, cmap=\"speed_colorblind\", add_colorbar=add_colorbar)"
   ]
  },
  {
   "cell_type": "code",
   "execution_count": null,
   "id": "30e11076-78a8-44b1-b032-dd2592cc3271",
   "metadata": {},
   "outputs": [],
   "source": [
    "m = xr.concat(states_clipped, dim=\"sector\")"
   ]
  },
  {
   "cell_type": "code",
   "execution_count": null,
   "id": "71bd1643-4f2e-4bab-9fde-6445b31f0aa1",
   "metadata": {},
   "outputs": [],
   "source": [
    "m[\"velsurf_mag\"].mean(dim=\"sector\").plot(vmin=10, vmax=1500, cmap=\"speed_colorblind\", add_colorbar=add_colorbar)"
   ]
  },
  {
   "cell_type": "code",
   "execution_count": null,
   "id": "f1ead844-04da-4279-ad1b-fafce4dcb928",
   "metadata": {},
   "outputs": [],
   "source": [
    "states_clipped[1].x"
   ]
  },
  {
   "cell_type": "code",
   "execution_count": null,
   "id": "4c88d7c5-2590-4eb7-a04b-443b37b7f2cd",
   "metadata": {},
   "outputs": [],
   "source": [
    "ds = xr.Dataset({'x': ('x', np.linspace(0, 100, 91)), 'y': ('y', np.linspace(0, 200, 21))})\n",
    "x_bounds, _ = get_bounds(ds)\n",
    "\n",
    "fig, ax = plt.subplots(1, 1, figsize=(24, 8))\n",
    "for k, m in enumerate(multipliers[:-5]):\n",
    "    dr = m * base_resolution\n",
    "    x = np.arange(x_bounds[0] + dr/2, x_bounds[1], dr)\n",
    "    y = np.zeros_like(x) + k\n",
    "    ax.plot(x, y, \"x\")\n",
    "ax.grid()\n",
    "ax.set_xticks(x)\n",
    "ax.set_xlim(x_bounds[0], x_bounds[1])\n"
   ]
  },
  {
   "cell_type": "code",
   "execution_count": null,
   "id": "c375683f-62e0-43ff-a923-5c28f306836c",
   "metadata": {},
   "outputs": [],
   "source": [
    "[state.x[0] for state in states_clipped]"
   ]
  },
  {
   "cell_type": "code",
   "execution_count": null,
   "id": "ed80d937-8ddc-4689-9c0c-c1a3da819455",
   "metadata": {},
   "outputs": [],
   "source": [
    "states_clipped[1][\"velsurf_mag\"].plot(vmin=10, vmax=1500, cmap=\"speed_colorblind\", add_colorbar=add_colorbar)"
   ]
  },
  {
   "cell_type": "code",
   "execution_count": null,
   "id": "25de799c-9b5a-4385-8003-067629cafa4e",
   "metadata": {},
   "outputs": [],
   "source": [
    "xr.merge([state[\"velsurf_mag\"] for state in states_clipped], join=\"inner\", compat=\"override\")[\"velsurf_mag\"].plot(vmin=10, vmax=1500, cmap=\"speed_colorblind\", add_colorbar=add_colorbar)"
   ]
  },
  {
   "cell_type": "code",
   "execution_count": null,
   "id": "a150e0bd-226f-483c-8109-687baa8f00e6",
   "metadata": {},
   "outputs": [],
   "source": [
    "xr.merge([state[\"velsurf_mag\"] for state in states_clipped], join=\"inner\", compat=\"override\")"
   ]
  },
  {
   "cell_type": "code",
   "execution_count": null,
   "id": "71c9b823-5e38-407c-910c-1ba9876db50c",
   "metadata": {},
   "outputs": [],
   "source": [
    "state_main_ds.rio.clip?"
   ]
  },
  {
   "cell_type": "code",
   "execution_count": null,
   "id": "3cb05e47-66b7-4081-b38a-951394304689",
   "metadata": {},
   "outputs": [],
   "source": [
    "xr.merge(ms)"
   ]
  },
  {
   "cell_type": "code",
   "execution_count": null,
   "id": "cf30c0a8-a8d1-4f48-80cb-474c2d77772a",
   "metadata": {},
   "outputs": [],
   "source": [
    "xr.open_dataset?"
   ]
  },
  {
   "cell_type": "code",
   "execution_count": null,
   "id": "2b119773-9d47-4c4e-8169-93dbc9bb1172",
   "metadata": {},
   "outputs": [],
   "source": [
    "x_main_bounds"
   ]
  },
  {
   "cell_type": "code",
   "execution_count": null,
   "id": "bda2d090-25f9-4a0c-b83c-0684d31f5cbd",
   "metadata": {},
   "outputs": [],
   "source": [
    "y_main_bounds"
   ]
  },
  {
   "cell_type": "code",
   "execution_count": null,
   "id": "aeef6202-8174-4f7d-9f06-99be791faa90",
   "metadata": {},
   "outputs": [],
   "source": []
  }
 ],
 "metadata": {
  "kernelspec": {
   "display_name": "Python 3 (ipykernel)",
   "language": "python",
   "name": "python3"
  },
  "language_info": {
   "codemirror_mode": {
    "name": "ipython",
    "version": 3
   },
   "file_extension": ".py",
   "mimetype": "text/x-python",
   "name": "python",
   "nbconvert_exporter": "python",
   "pygments_lexer": "ipython3"
  }
 },
 "nbformat": 4,
 "nbformat_minor": 5
}
