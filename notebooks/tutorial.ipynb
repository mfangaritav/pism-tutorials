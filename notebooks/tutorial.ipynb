{
 "cells": [
  {
   "cell_type": "markdown",
   "id": "2c25bf57-13d3-4e35-a0bb-e699cf6714de",
   "metadata": {},
   "source": [
    "# PISM Greenland Tutorial"
   ]
  },
  {
   "cell_type": "markdown",
   "id": "259442a1-3b54-46c7-ae0a-e37e080c20da",
   "metadata": {},
   "source": [
    "The flow of glaciers can be described as Stokes flow, obeying conservation equations for *mass*, *linear momentum*, and *energy* (*angular momentum* results in a symmetric stress tensor)\n",
    "\n",
    "$$\n",
    "\\begin{aligned}\n",
    "\\textrm{mass}:  &\\nabla \\cdot \\mathbf{v} & = & 0 \\\\\n",
    "\\textrm{momentum}:  & \\nabla \\left( \\eta \\nabla \\cdot \\mathbf{v} \\right) - \\rho \\mathbf{g} & = & 0 \\\\\n",
    "\\textrm{energ}: & \\frac{\\mathrm{d} E}{\\mathrm{d} t}\n",
    "\\end{aligned}\n",
    "$$\n",
    "\n",
    "The visosity of ice, $\\eta = A(T) \\left(v \\right)$. Ice has a memory, which significantly complicates the simulation of glaciers.\n",
    "\n",
    "We need initial conditions for these conservation equations.\n",
    "\n",
    "mass: initial ice geometry $\\Omega_0$\n",
    "momentum: \n",
    "energy: initial energy field $E_0$\n",
    "$$\n",
    "\\begin{aligned}\n",
    "\\textrm{mass}:  & \\textrm{ice geometry} \\Omega_0 \\\\\n",
    "\\textrm{momentum}: & \\textrm{}  \\\\\n",
    "\\textrm{energy}: & \\textrm{energy} E_0\n",
    "\\end{aligned}\n",
    "$$"
   ]
  },
  {
   "cell_type": "code",
   "execution_count": null,
   "id": "a6ce80e5-0a64-45f2-b30b-efa8a20f0f61",
   "metadata": {},
   "outputs": [],
   "source": [
    "from functools import partial\n",
    "\n",
    "from pathlib import Path\n",
    "import matplotlib.pylab as plt\n",
    "from matplotlib import colors\n",
    "import numpy as np\n",
    "import xarray as xr\n",
    "import cf_xarray.units  # otherwise we get a Parser error\n",
    "import pint_xarray\n",
    "\n",
    "from pism_tutorials.download import download_files\n",
    "from pism_tutorials.plotting import register_colormaps\n",
    "from pism_tutorials.processing import preprocess_nc\n",
    "\n",
    "register_colormaps()\n",
    "xr.set_options(keep_attrs=True)"
   ]
  },
  {
   "cell_type": "code",
   "execution_count": null,
   "id": "1ca16c3c-d8c5-42ce-8cd0-8e4c1d79d1f6",
   "metadata": {},
   "outputs": [],
   "source": [
    "# The name of the PISM Cloud S3 bucket\n",
    "bucket_name = \"pism-cloud-data\""
   ]
  },
  {
   "cell_type": "code",
   "execution_count": null,
   "id": "7e483c5a-4e48-4934-b3da-2611fc36b8fd",
   "metadata": {},
   "outputs": [],
   "source": [
    "tutorial_files = {\"initial_state\": {\"path\": \"initial_states\", \"files\": [\"g1200m_id_BAYES-MEDIAN_1980-1-1_1984-12-31.nc\"]}, \n",
    "                  \"basal_heatflux\": {\"path\": \"bheatflux\", \"files\": [\"geothermal_heat_flow_map_10km.nc\"]},\n",
    "                  \"climate\": {\"path\": \"ismip6\", \"files\": [\"MARv3.9_MIROC5-rcp26_climate_1960-2100_v1.nc\", \"MARv3.9_MIROC5-rcp85_climate_1960-2100_v1.nc\"]},\n",
    "                  \"ocean\": {\"path\": \"ismip6\", \"files\": [\"MAR3.9_MIROC-ESM-CHEM_rcp26_ocean_1960-2100_v4.nc\", \"MAR3.9_MIROC-ESM-CHEM_rcp85_ocean_1960-2100_v4.nc\"]},\n",
    "                  \"grid\": {\"path\": \"grids\", \"files\": [\"pism-bedmachine.nc\"]}}\n",
    "\n",
    "to_download = []\n",
    "for forcing_type, forcing in tutorial_files.items():\n",
    "    for f in forcing[\"files\"]:\n",
    "        d = Path(forcing[\"path\"])\n",
    "        d.mkdir(parents=True, exist_ok=True)\n",
    "        p = d / Path(f)\n",
    "        to_download.append(str(p))\n"
   ]
  },
  {
   "cell_type": "code",
   "execution_count": null,
   "id": "64fcc1bb-20eb-46e8-8154-867568a03f28",
   "metadata": {},
   "outputs": [],
   "source": [
    "# Download files if not exist.\n",
    "# Set \"overwrite=True\" to overwrite existing files.\n",
    "download_files(bucket_name, to_download, overwrite=False)"
   ]
  },
  {
   "cell_type": "code",
   "execution_count": null,
   "id": "286568db-11ad-4443-9cb4-53b05cb68ecf",
   "metadata": {},
   "outputs": [],
   "source": [
    "init_file = Path(tutorial_files[\"initial_state\"][\"path\"]) / Path(tutorial_files[\"initial_state\"][\"files\"][0])\n",
    "init_ds = xr.open_dataset(init_file, decode_timedelta=True)\n",
    "\n",
    "climate_files = Path(tutorial_files[\"climate\"][\"path\"]).glob(\"*_climate_*.nc\")\n",
    "climate_ds = xr.open_mfdataset(climate_files,                       \n",
    "                               preprocess=partial(preprocess_nc, regexp=\"_(.+?)_\", dim=\"gcm\"),\n",
    "                               chunks=\"auto\",\n",
    "                               parallel=True,             \n",
    "                               decode_cf=True,\n",
    "                               decode_timedelta=True,\n",
    "                               combine=\"nested\",\n",
    "                               concat_dim=\"gcm\")\n",
    "\n",
    "climate_ds[\"climatic_mass_balance_anomaly\"] = climate_ds[\"climatic_mass_balance_anomaly\"].pint.quantify().pint.to(\"kg m-2 yr-1\")\n",
    "\n",
    "bhf_file = Path(tutorial_files[\"basal_heatflux\"][\"path\"]) / Path(tutorial_files[\"basal_heatflux\"][\"files\"][0])\n",
    "bhf_ds = xr.open_dataset(bhf_file, decode_timedelta=True)"
   ]
  },
  {
   "cell_type": "markdown",
   "id": "75ccc8dd-cb64-42c6-8b5b-6eb3fe9806ed",
   "metadata": {},
   "source": [
    "## Initial geometry"
   ]
  },
  {
   "cell_type": "code",
   "execution_count": null,
   "id": "d027560d-5cdc-4236-8a01-ad2575bf187b",
   "metadata": {},
   "outputs": [],
   "source": [
    "fig, axs = plt.subplots(1, 3, sharex=True, sharey=True, figsize=(12, 4))\n",
    "init_ds[\"usurf\"].plot(ax=axs[0], cmap=\"bath_topo\", vmin=-500, vmax=2000, extend=\"both\")\n",
    "init_ds[\"topg\"].plot(ax=axs[1], cmap=\"bath_topo\", vmin=-500, vmax=2000, extend=\"both\")\n",
    "init_ds[\"thk\"].where(init_ds[\"thk\"] > 0).plot(ax=axs[2], cmap=\"managua\", vmax=3000, extend=\"max\")\n",
    "axs[0].set_title(\"ice surface elevation\")\n",
    "axs[1].set_title(\"sublacial topography\")\n",
    "axs[2].set_title(\"ice thickness\")\n",
    "for ax in axs:\n",
    "    ax.set_axis_off()"
   ]
  },
  {
   "cell_type": "markdown",
   "id": "420600b5-f14e-4805-a2de-cde403903264",
   "metadata": {},
   "source": [
    "## Climate forcing"
   ]
  },
  {
   "cell_type": "code",
   "execution_count": null,
   "id": "159a2fa6-bb27-4bfb-915e-97466c8f6a50",
   "metadata": {},
   "outputs": [],
   "source": [
    "fig = anomaly_2090s[\"climatic_mass_balance_anomaly\"].plot(col=\"gcm\", vmin=-2500, vmax=2500, cmap=\"RdBu\", extend=\"both\", figsize=(8, 4)).fig\n",
    "for ax in fig.axes[:2]:\n",
    "    ax.set_axis_off()\n",
    "fig = anomaly_2090s[\"ice_surface_temp_anomaly\"].plot(col=\"gcm\", cmap=\"Reds\", vmin=0, vmax=20, extend=\"max\", figsize=(8, 4)).fig\n",
    "for ax in fig.axes[:2]:\n",
    "    ax.set_axis_off()"
   ]
  },
  {
   "cell_type": "code",
   "execution_count": null,
   "id": "d03065b7-7396-4c2a-bc1d-fcf0db144ee4",
   "metadata": {},
   "outputs": [],
   "source": [
    "f = \"mpirun -np 4 pism -eisII A -grid.Mx 101 -grid.My 101\""
   ]
  },
  {
   "cell_type": "code",
   "execution_count": null,
   "id": "8f175701-8b13-4335-8f64-b1ef6bc8b110",
   "metadata": {},
   "outputs": [],
   "source": [
    "!$f "
   ]
  },
  {
   "cell_type": "code",
   "execution_count": null,
   "id": "1aa79b32-cec1-43d1-a6b3-c47597ea86a8",
   "metadata": {},
   "outputs": [],
   "source": [
    "climate_ds.drop_vars([\"time_bnds\"]).pint.quantify()"
   ]
  },
  {
   "cell_type": "code",
   "execution_count": null,
   "id": "b2d2865a-930e-4a6b-9747-d8eced4479f0",
   "metadata": {},
   "outputs": [],
   "source": [
    "fig.ax"
   ]
  },
  {
   "cell_type": "code",
   "execution_count": null,
   "id": "3929f555-f82b-409e-9de7-ac8ab4fdc4ff",
   "metadata": {},
   "outputs": [],
   "source": []
  }
 ],
 "metadata": {
  "kernelspec": {
   "display_name": "Python 3 (ipykernel)",
   "language": "python",
   "name": "python3"
  },
  "language_info": {
   "codemirror_mode": {
    "name": "ipython",
    "version": 3
   },
   "file_extension": ".py",
   "mimetype": "text/x-python",
   "name": "python",
   "nbconvert_exporter": "python",
   "pygments_lexer": "ipython3"
  }
 },
 "nbformat": 4,
 "nbformat_minor": 5
}
