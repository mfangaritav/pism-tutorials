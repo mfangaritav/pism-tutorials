{
 "cells": [
  {
   "cell_type": "markdown",
   "id": "2c25bf57-13d3-4e35-a0bb-e699cf6714de",
   "metadata": {},
   "source": [
    "# PISM Greenland Tutorial"
   ]
  },
  {
   "cell_type": "markdown",
   "id": "259442a1-3b54-46c7-ae0a-e37e080c20da",
   "metadata": {},
   "source": [
    "The flow of glaciers can be described as Stokes flow, obeying conservation equations for *mass*, *linear momentum*, and *energy* (*angular momentum* results in a symmetric stress tensor)\n",
    "\n",
    "$$\n",
    "\\begin{aligned}\n",
    "\\textrm{mass}:  &\\nabla \\cdot \\mathbf{v} & = & 0 \\\\\n",
    "\\textrm{momentum}:  & \\nabla \\left( \\eta \\nabla \\cdot \\mathbf{v} \\right) - \\rho \\mathbf{g} & = & 0 \\\\\n",
    "\\textrm{energ}: & \\frac{\\mathrm{d} E}{\\mathrm{d} t}\n",
    "\\end{aligned}\n",
    "$$\n",
    "\n",
    "The visosity of ice, $\\eta = A(T) \\left(v \\right)$. Ice has a memory, which significantly complicates the simulation of glaciers.\n",
    "\n",
    "We need initial conditions for these conservation equations.\n",
    "\n",
    "mass: initial ice geometry $\\Omega_0$\n",
    "momentum: \n",
    "energy: initial energy field $E_0$\n",
    "$$\n",
    "\\begin{aligned}\n",
    "\\textrm{mass}:  & \\textrm{ice geometry} \\Omega_0 \\\\\n",
    "\\textrm{momentum}: & \\textrm{}  \\\\\n",
    "\\textrm{energy}: & \\textrm{energy} E_0\n",
    "\\end{aligned}\n",
    "$$"
   ]
  },
  {
   "cell_type": "code",
   "execution_count": null,
   "id": "a6ce80e5-0a64-45f2-b30b-efa8a20f0f61",
   "metadata": {},
   "outputs": [],
   "source": [
    "import matplotlib.pylab as plt\n",
    "from matplotlib import colors\n",
    "import numpy as np\n",
    "import xarray as xr\n",
    "\n",
    "from pism_tutorials.plotting import register_colormap\n",
    "\n",
    "register_colormaps()"
   ]
  },
  {
   "cell_type": "code",
   "execution_count": null,
   "id": "403c255c-573f-402a-ba3d-ca1d91243620",
   "metadata": {},
   "outputs": [],
   "source": [
    "\n",
    "    "
   ]
  },
  {
   "cell_type": "code",
   "execution_count": null,
   "id": "1ca16c3c-d8c5-42ce-8cd0-8e4c1d79d1f6",
   "metadata": {},
   "outputs": [],
   "source": [
    "bucket_name = \"pism-cloud-data\""
   ]
  },
  {
   "cell_type": "code",
   "execution_count": null,
   "id": "7e483c5a-4e48-4934-b3da-2611fc36b8fd",
   "metadata": {},
   "outputs": [],
   "source": [
    "tutorial_files = {\"initial_state\": {\"path\": \"initial_states\", \"files\": [\"g1200m_id_BAYES-MEDIAN_1980-1-1_1984-12-31.nc\"]}, \n",
    "                  \"basal_heatflux\": {\"path\": \"bheatflux\", \"files\": [\"geothermal_heat_flow_map_10km.nc\"]},\n",
    "                 \"grid\": {\"path\": \"grids\", \"files\": [\"pism-bedmachine.nc\"]}}\n",
    "\n",
    "to_download = []\n",
    "for forcing_type, forcing in tutorial_files.items():\n",
    "    for f in forcing[\"files\"]:\n",
    "        d = Path(forcing[\"path\"])\n",
    "        d.mkdir(parents=True, exist_ok=True)\n",
    "        p = d / Path(f)\n",
    "        to_download.append(str(p))\n"
   ]
  },
  {
   "cell_type": "code",
   "execution_count": null,
   "id": "64fcc1bb-20eb-46e8-8154-867568a03f28",
   "metadata": {},
   "outputs": [],
   "source": [
    "download_files(bucket_name, to_download, overwrite=False)"
   ]
  },
  {
   "cell_type": "code",
   "execution_count": null,
   "id": "1eb05731-078e-4707-9a27-f8b1f14e05a3",
   "metadata": {},
   "outputs": [],
   "source": [
    "print(to_download)\n",
    "\n",
    "# s3 = boto3.resource('s3')\n",
    "\n",
    "# my_bucket = s3.Bucket(bucket_name)\n",
    "\n",
    "# for file in my_bucket.objects.all():\n",
    "#     print(file.key)\n",
    "\n",
    "s3_client=boto3.client('s3')\n",
    "s3_client.download_file(bucket_name, 'initial_states/g1200m_id_BAYES-MEDIAN_1980-1-1_1984-12-31.nc', 'g1200m_id_BAYES-MEDIAN_1980-1-1_1984-12-31.nc')"
   ]
  },
  {
   "cell_type": "code",
   "execution_count": null,
   "id": "286568db-11ad-4443-9cb4-53b05cb68ecf",
   "metadata": {},
   "outputs": [],
   "source": [
    "init_file = Path(tutorial_files[\"initial_state\"][\"path\"]) / Path(tutorial_files[\"initial_state\"][\"files\"][0])\n",
    "init_ds = xr.open_dataset(init_file, decode_timedelta=True)\n",
    "\n",
    "bhf_file = Path(tutorial_files[\"basal_heatflux\"][\"path\"]) / Path(tutorial_files[\"basal_heatflux\"][\"files\"][0])\n",
    "bhf_ds = xr.open_dataset(bhf_file, decode_timedelta=True)"
   ]
  },
  {
   "cell_type": "markdown",
   "id": "75ccc8dd-cb64-42c6-8b5b-6eb3fe9806ed",
   "metadata": {},
   "source": [
    "## Initial geometry"
   ]
  },
  {
   "cell_type": "code",
   "execution_count": null,
   "id": "d027560d-5cdc-4236-8a01-ad2575bf187b",
   "metadata": {},
   "outputs": [],
   "source": [
    "fig, axs = plt.subplots(1, 3, sharex=True, sharey=True, figsize=(12, 4))\n",
    "init_ds[\"usurf\"].plot(ax=axs[0])\n",
    "init_ds[\"topg\"].plot(ax=axs[1])\n",
    "init_ds[\"thk\"].plot(ax=axs[2])\n",
    "#bhf_ds[\"bheatflx\"].plot(ax=axs[1,0], cmap=\"magma_r\", vmin=40, vmax=80)\n",
    "#init_ds[\"velsurf_mag\"].plot(ax=axs[1,1], cmap=speed_cmap, vmin=10, vmax=1500)"
   ]
  },
  {
   "cell_type": "code",
   "execution_count": null,
   "id": "d03065b7-7396-4c2a-bc1d-fcf0db144ee4",
   "metadata": {},
   "outputs": [],
   "source": [
    "f = \"mpirun -np 4 pism -eisII A -grid.Mx 101 -grid.My 101\""
   ]
  },
  {
   "cell_type": "code",
   "execution_count": null,
   "id": "8f175701-8b13-4335-8f64-b1ef6bc8b110",
   "metadata": {},
   "outputs": [],
   "source": [
    "!$f "
   ]
  },
  {
   "cell_type": "code",
   "execution_count": null,
   "id": "1aa79b32-cec1-43d1-a6b3-c47597ea86a8",
   "metadata": {},
   "outputs": [],
   "source": []
  }
 ],
 "metadata": {
  "kernelspec": {
   "display_name": "Python 3 (ipykernel)",
   "language": "python",
   "name": "python3"
  },
  "language_info": {
   "codemirror_mode": {
    "name": "ipython",
    "version": 3
   },
   "file_extension": ".py",
   "mimetype": "text/x-python",
   "name": "python",
   "nbconvert_exporter": "python",
   "pygments_lexer": "ipython3"
  }
 },
 "nbformat": 4,
 "nbformat_minor": 5
}
