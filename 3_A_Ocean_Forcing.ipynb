{
 "cells": [
  {
   "cell_type": "markdown",
   "id": "2c25bf57-13d3-4e35-a0bb-e699cf6714de",
   "metadata": {},
   "source": [
    "# 3. Ocean forcing\n",
    "\n",
    "*Author: Andy Aschwanden*\n",
    "\n",
    "In this tutorial, we will visualize the ocean forcing provided by [Ice Sheet Model Intercomparison for CMIP6 (ISMIP6)](https://climate-cryosphere.org/about-ismip6/])."
   ]
  },
  {
   "cell_type": "code",
   "execution_count": null,
   "id": "a6ce80e5-0a64-45f2-b30b-efa8a20f0f61",
   "metadata": {},
   "outputs": [],
   "source": [
    "from functools import partial\n",
    "\n",
    "from dask.diagnostics import ProgressBar\n",
    "from pathlib import Path\n",
    "import matplotlib.pylab as plt\n",
    "from matplotlib import colors\n",
    "import numpy as np\n",
    "import xarray as xr\n",
    "import cf_xarray.units  # otherwise we get a Parser error\n",
    "import pint_xarray\n",
    "import seaborn as sns\n",
    "\n",
    "from pism_tutorials.processing import preprocess_nc\n",
    "from pism_tutorials.utils import merge_dicts, dict2str, sort_dict_by_key\n",
    "\n",
    "xr.set_options(keep_attrs=True)                   "
   ]
  },
  {
   "cell_type": "markdown",
   "id": "3b94226d-f2a2-4901-b0f2-a6cac4fba489",
   "metadata": {},
   "source": [
    "## Sync with pism-cloud-data\n",
    "\n",
    "We need data to serve as initial and boundary conditions as well as observations for validation. Data pre-processing can be a large part of project and the time it takes to get ready to perform a simulation is easily underestimated. For the purposes of this tutorial, we have done the hard part already and put all necessary data into a public S3 bucket.\n",
    "\n",
    "Because the python library `boto3` lacks a command to easily *synchronize a local directory with an *s3* bucket, we use the *aws command line tools* (`awscli`) that should have been installed when you generated the `conda` environment, if not, you can run `pip install awscli`. We are downloading a few `GB`, so the intial sync might take a while.\n"
   ]
  },
  {
   "cell_type": "code",
   "execution_count": null,
   "id": "1ca16c3c-d8c5-42ce-8cd0-8e4c1d79d1f6",
   "metadata": {},
   "outputs": [],
   "source": [
    "# The name of the PISM Cloud S3 bucket\n",
    "bucket_name = \"pism-cloud-data\"\n",
    "! aws s3 sync --no-sign-request s3://pism-cloud-data/tutorial_files  tutorial_files\n",
    "! aws s3 sync --no-sign-request s3://pism-cloud-data/ismip6_ocean  ismip6_ocean\n",
    "! aws s3 sync --no-sign-request s3://pism-cloud-data/glacier_dems  glacier_dems"
   ]
  },
  {
   "cell_type": "markdown",
   "id": "75ccc8dd-cb64-42c6-8b5b-6eb3fe9806ed",
   "metadata": {},
   "source": [
    "## ISMIP6 Ocean Forcing\n",
    "\n"
   ]
  },
  {
   "cell_type": "code",
   "execution_count": null,
   "id": "2dba8b94-f043-4368-9810-ed2a189c76e4",
   "metadata": {},
   "outputs": [],
   "source": [
    "ds = xr.open_mfdataset(\"ismip6_ocean/MAR3.9_*_theta_ocean_1980-2020_v4.nc\", \n",
    "                       preprocess=partial(preprocess_nc, regexp=\"9_(.+?)_theta_ocean\", dim=\"GCM\"), \n",
    "                       parallel=True,             \n",
    "                       combine=\"nested\",\n",
    "                       concat_dim=\"GCM\",\n",
    "                       chunks=\"auto\",)"
   ]
  },
  {
   "cell_type": "markdown",
   "id": "fb7044bb-e679-4f74-a2df-d3c321274683",
   "metadata": {},
   "source": [
    "### Petermann Gletscher\n",
    "\n",
    "We now subset a point on the shelf and load in the DEM for the area."
   ]
  },
  {
   "cell_type": "code",
   "execution_count": null,
   "id": "08d80700-f037-4a91-ad32-7b6dd5a86b23",
   "metadata": {},
   "outputs": [],
   "source": [
    "petermann_loc = {\"x\": -275140, \"y\": -949491}\n",
    "petermann_gp = gp.GeoSeries(Point(petermann_loc.values()), crs=\"EPSG:3413\")\n",
    "petermann_dem = xr.open_dataset(\"glacier_dems/petermann.nc\")\n",
    "petermann_theta = ds.sel(petermann_loc, method=\"nearest\").theta_ocean.compute()"
   ]
  },
  {
   "cell_type": "markdown",
   "id": "23d21efc-7779-4181-b376-adb7e298399c",
   "metadata": {},
   "source": [
    "Plot the position of the point on the map of subglacial topography."
   ]
  },
  {
   "cell_type": "code",
   "execution_count": null,
   "id": "286568db-11ad-4443-9cb4-53b05cb68ecf",
   "metadata": {},
   "outputs": [],
   "source": [
    "fig, ax = plt.subplots(1, 1)\n",
    "petermann_dem.bed.plot(ax=ax)\n",
    "petermann_gp.plot(ax=ax, color=\"k\")\n"
   ]
  },
  {
   "cell_type": "markdown",
   "id": "ae30cf1d-ed41-4ae3-99a1-79efbfeefa73",
   "metadata": {},
   "source": [
    "The time series is of `theta_ocean` at the point is:"
   ]
  },
  {
   "cell_type": "code",
   "execution_count": null,
   "id": "ab81bc0e-f85f-4a5d-a20d-84a6344f2799",
   "metadata": {},
   "outputs": [],
   "source": [
    "fig, ax = plt.subplots(1, 1, figsize=(10.2, 3.6))\n",
    "petermann.plot(hue=\"GCM\", ax=ax, add_legend=True)\n",
    "ax.plot(xr.date_range(\"2000\", \"2005\", freq=\"YS\"),[2.6] * 6)\n",
    "sns.move_legend(plt.gca(), loc='center left', bbox_to_anchor=(1, 0.5))\n",
    "ax.set_title(\"Petermann Gletscher\")\n",
    "plt.tight_layout()\n",
    "plt.show()"
   ]
  },
  {
   "cell_type": "markdown",
   "id": "520bd541-40a7-465a-9760-d8ce2298aeb0",
   "metadata": {},
   "source": [
    "Now we can set up PISM."
   ]
  },
  {
   "cell_type": "code",
   "execution_count": null,
   "id": "810230a3-22f8-42c0-aac6-e4232ab61cdf",
   "metadata": {},
   "outputs": [],
   "source": [
    "resolution = \"450m\"  # a coarse resolution such that we can run the simulation on a desktop computer\n",
    "\n",
    "output_dir = Path(\"basal_melt_rates\")\n",
    "output_dir.mkdir(parents=True, exist_ok=True)\n",
    "\n",
    "extra_file = \"\"\n",
    "start = \"2000-01-01\"\n",
    "end = \"2001-01-01\"\n",
    "\n",
    "\n",
    "input_params = {\n",
    "    \"bootstrap\": \"\",\n",
    "    \"i\": None,\n",
    "}\n",
    "\n",
    "grid_params = {\n",
    "    \"grid.dx\": resolution,\n",
    "    \"grid.dy\": resolution,\n",
    "    \"grid.Mz\": 101,\n",
    "    \"grid.Lz\": 4000,\n",
    "    \"grid.Mbz\": 11,\n",
    "    \"grid.Lbz\": 1000,\n",
    "}\n",
    "\n",
    "time_params = {\n",
    "    \"time.start\": start,\n",
    "    \"time.end\": end,\n",
    "    \"time.calendar\": \"standard\",\n",
    "    \"time_stepping.skip.enabled\": \"\",\n",
    "    \"time_stepping.skip.max\": 100\n",
    "}\n",
    "\n",
    "climate_params = {\n",
    "    \"surface\": \"elevation\",\n",
    "    \"ocean.models\": \"th\",\n",
    "    \"ocean.th.file\": None,\n",
    "    \"constants.sea_water.salinity\": 35,\n",
    "    \"ocean.th.gamma_T\": 0.0001,\n",
    "    \"ocean.th.clip_salinity\": \"no\"\n",
    "}\n",
    "\n",
    "dynamics_params = {\n",
    "    \"no_mass\": \"\",\n",
    "    \"energy\": \"none\",\n",
    "    \"stress_balance.sia.max_diffusivity\": 1000000,\n",
    " \n",
    "}\n",
    "\n",
    "output_params = {\n",
    "    \"output.extra.file\": extra_file,\n",
    "    \"output.extra.times\": \"yearly\",\n",
    "    \"output.extra.vars\": \"bmelt,mask,topg,usurf,thk\",\n",
    "    \"output.size\": \"none\"  # do not write a state file\n",
    "}\n",
    "\n",
    "run_dict = merge_dicts(input_params, grid_params, time_params, dynamics_params, climate_params, output_params)"
   ]
  },
  {
   "cell_type": "markdown",
   "id": "420600b5-f14e-4805-a2de-cde403903264",
   "metadata": {},
   "source": []
  },
  {
   "cell_type": "code",
   "execution_count": null,
   "id": "69561e65-9c00-4dd1-88ee-65139cb11bcf",
   "metadata": {},
   "outputs": [],
   "source": [
    "for glacier in [\"petermann\", \"jib\", \"79n\"]:\n",
    "    spatial_files = output_dir.glob(f\"*{glacier}*.nc\")\n",
    "    spatial_ds = xr.open_mfdataset(\n",
    "        spatial_files,\n",
    "        preprocess=partial(preprocess_nc, regexp=\"gcm_(.+?)_\", dim=\"GCM\"), \n",
    "                       parallel=True,             \n",
    "                       combine=\"nested\",\n",
    "                       concat_dim=\"GCM\",\n",
    "                       chunks=\"auto\",)\n",
    "    spatial_ds = spatial_ds.where(spatial_ds)\n",
    "    f = spatial_ds[\"bmelt\"].plot(col=\"GCM\", col_wrap=3)"
   ]
  },
  {
   "cell_type": "code",
   "execution_count": null,
   "id": "053ce122-f5e6-4e16-a1dd-6164043adb50",
   "metadata": {},
   "outputs": [],
   "source": []
  }
 ],
 "metadata": {
  "kernelspec": {
   "display_name": "Python 3 (ipykernel)",
   "language": "python",
   "name": "python3"
  },
  "language_info": {
   "codemirror_mode": {
    "name": "ipython",
    "version": 3
   },
   "file_extension": ".py",
   "mimetype": "text/x-python",
   "name": "python",
   "nbconvert_exporter": "python",
   "pygments_lexer": "ipython3"
  }
 },
 "nbformat": 4,
 "nbformat_minor": 5
}
