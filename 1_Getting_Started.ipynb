{
 "cells": [
  {
   "cell_type": "markdown",
   "id": "2c25bf57-13d3-4e35-a0bb-e699cf6714de",
   "metadata": {},
   "source": [
    "# 1. Getting Started\n",
    "## An introduction to ice flow modeling with the Parallel Ice Sheet Model (PISM)\n",
    "\n",
    "*Author: Andy Aschwanden*\n",
    "\n",
    "In this tutorial, we will perform a few progonostic simulations of the Greenland Ice Sheet with climate forcing provided by the [Ice Sheet Model Intercomparison for CMIP6 (ISMIP6)](https://climate-cryosphere.org/about-ismip6/])."
   ]
  },
  {
   "cell_type": "code",
   "execution_count": null,
   "id": "a6ce80e5-0a64-45f2-b30b-efa8a20f0f61",
   "metadata": {},
   "outputs": [],
   "source": [
    "from functools import partial\n",
    "\n",
    "from dask.diagnostics import ProgressBar\n",
    "from pathlib import Path\n",
    "import matplotlib.pylab as plt\n",
    "from matplotlib import colors\n",
    "import numpy as np\n",
    "import xarray as xr\n",
    "import cf_xarray.units  # otherwise we get a Parser error\n",
    "import pint_xarray\n",
    "import xskillscore as xs\n",
    "\n",
    "from pism_tutorials.download import download_files\n",
    "from pism_tutorials.plotting import register_colormaps\n",
    "from pism_tutorials.processing import preprocess_nc\n",
    "from pism_tutorials.utils import merge_dicts, dict2str, sort_dict_by_key\n",
    "\n",
    "register_colormaps()\n",
    "xr.set_options(keep_attrs=True)\n"
   ]
  },
  {
   "cell_type": "code",
   "execution_count": null,
   "id": "1ca16c3c-d8c5-42ce-8cd0-8e4c1d79d1f6",
   "metadata": {},
   "outputs": [],
   "source": [
    "# The name of the PISM Cloud S3 bucket\n",
    "bucket_name = \"pism-cloud-data\""
   ]
  },
  {
   "cell_type": "code",
   "execution_count": null,
   "id": "7e483c5a-4e48-4934-b3da-2611fc36b8fd",
   "metadata": {},
   "outputs": [],
   "source": [
    "tutorial_files = {\"initial_state\": {\"path\": \"initial_states\", \"files\": [\"g1200m_id_BAYES-MEDIAN_1980-1-1_1984-12-31.nc\"]}, \n",
    "                  \"basal_heatflux\": {\"path\": \"bheatflux\", \"files\": [\"geothermal_heat_flow_map_10km.nc\"]},\n",
    "                  \"climate\": {\"path\": \"ismip6\", \"files\": [\"MARv3.9_MIROC5-rcp26_climate_1960-2100_v1.nc\", \"MARv3.9_MIROC5-rcp85_climate_1960-2100_v1.nc\", \"MARv3.9_ERAI_climate_1978-2018_MEAN.nc\"]},\n",
    "                  \"ocean\": {\"path\": \"ismip6\", \"files\": [\"MAR3.9_MIROC-ESM-CHEM_rcp26_ocean_1960-2100_v4.nc\", \"MAR3.9_MIROC-ESM-CHEM_rcp85_ocean_1960-2100_v4.nc\"]},\n",
    "                  \"observations\": {\"path\": \"observations\", \"files\": [\"GRE_G1200_0000.nc\"]},\n",
    "                  \"grid\": {\"path\": \"grids\", \"files\": [\"pism-bedmachine.nc\"]}}\n",
    "\n",
    "to_download = []\n",
    "for forcing_type, forcing in tutorial_files.items():\n",
    "    for f in forcing[\"files\"]:\n",
    "        d = Path(forcing[\"path\"])\n",
    "        d.mkdir(parents=True, exist_ok=True)\n",
    "        p = d / Path(f)\n",
    "        to_download.append(str(p))\n"
   ]
  },
  {
   "cell_type": "code",
   "execution_count": null,
   "id": "64fcc1bb-20eb-46e8-8154-867568a03f28",
   "metadata": {},
   "outputs": [],
   "source": [
    "# Download files if not exist.\n",
    "# Set \"overwrite=True\" to overwrite existing files.\n",
    "download_files(bucket_name, to_download, overwrite=False)"
   ]
  },
  {
   "cell_type": "code",
   "execution_count": null,
   "id": "286568db-11ad-4443-9cb4-53b05cb68ecf",
   "metadata": {},
   "outputs": [],
   "source": [
    "init_file = Path(tutorial_files[\"initial_state\"][\"path\"]) / Path(tutorial_files[\"initial_state\"][\"files\"][0])\n",
    "init_ds = xr.open_dataset(init_file, decode_timedelta=True)\n",
    "\n",
    "climate_files = Path(tutorial_files[\"climate\"][\"path\"]).glob(\"*rcp*_climate_*.nc\")\n",
    "climate_ds = xr.open_mfdataset(climate_files,                       \n",
    "                               preprocess=partial(preprocess_nc, regexp=\"_(.+?)_\", dim=\"gcm\"),\n",
    "                               chunks=\"auto\",\n",
    "                               parallel=True,             \n",
    "                               decode_cf=True,\n",
    "                               decode_timedelta=True,\n",
    "                               combine=\"nested\",\n",
    "                               concat_dim=\"gcm\").sortby(\"gcm\").squeeze()\n",
    "\n",
    "climate_ds[\"climatic_mass_balance_anomaly\"] = climate_ds[\"climatic_mass_balance_anomaly\"].pint.quantify().pint.to(\"kg m-2 yr-1\")\n",
    "\n",
    "bhf_file = Path(tutorial_files[\"basal_heatflux\"][\"path\"]) / Path(tutorial_files[\"basal_heatflux\"][\"files\"][0])\n",
    "bhf_ds = xr.open_dataset(bhf_file, decode_timedelta=True)"
   ]
  },
  {
   "cell_type": "markdown",
   "id": "75ccc8dd-cb64-42c6-8b5b-6eb3fe9806ed",
   "metadata": {},
   "source": [
    "## Initial state\n",
    "\n",
    "Generating initial states that are compatible with observations and our understanding of ice flow is still an active area of research. For the purposes of this tutorial we use an initial state adapted from {cite:t}`Aschwanden2022`.\n",
    "\n",
    "\n",
    "In summary, the inital state was obtained by combining an energy field from simulation spanning a glacial cycle, present day ice sheet geometry, and basal fields calibrated using present day surface speeds."
   ]
  },
  {
   "cell_type": "code",
   "execution_count": null,
   "id": "d027560d-5cdc-4236-8a01-ad2575bf187b",
   "metadata": {},
   "outputs": [],
   "source": [
    "fig, axs = plt.subplots(1, 3, sharex=True, sharey=True, figsize=(12, 4))\n",
    "init_ds[\"usurf\"].plot(ax=axs[0], cmap=\"bath_topo\", vmin=-500, vmax=2000, extend=\"both\")\n",
    "init_ds[\"topg\"].plot(ax=axs[1], cmap=\"bath_topo\", vmin=-500, vmax=2000, extend=\"both\")\n",
    "init_ds[\"thk\"].where(init_ds[\"thk\"] > 0).plot(ax=axs[2], cmap=\"managua\", vmax=3000, extend=\"max\")\n",
    "axs[0].set_title(\"ice surface elevation\")\n",
    "axs[1].set_title(\"sublacial topography\")\n",
    "axs[2].set_title(\"ice thickness\")\n",
    "for ax in axs:\n",
    "    ax.set_axis_off()"
   ]
  },
  {
   "cell_type": "markdown",
   "id": "520bd541-40a7-465a-9760-d8ce2298aeb0",
   "metadata": {},
   "source": [
    "Open surface speeds from the `ITS_LIVE` Greenland Mosaic and compare to simulated surface speeds."
   ]
  },
  {
   "cell_type": "code",
   "execution_count": null,
   "id": "ab81bc0e-f85f-4a5d-a20d-84a6344f2799",
   "metadata": {},
   "outputs": [],
   "source": [
    "itslive_file = Path(tutorial_files[\"observations\"][\"path\"]) / Path(tutorial_files[\"observations\"][\"files\"][0])\n",
    "\n",
    "itslive_ds = xr.open_dataset(itslive_file,\n",
    "                             decode_timedelta=True,\n",
    "\n",
    ")\n",
    "\n",
    "speed_sim = init_ds[\"velsurf_mag\"].squeeze()\n",
    "speed_obs = itslive_ds[\"v\"].squeeze()\n",
    "\n",
    "fig, axs = plt.subplots(1, 3, sharex=True, sharey=True, figsize=(12, 4))\n",
    "speed_sim.plot(ax=axs[0], cmap=\"speed_colorblind\", vmin=10, vmax=1500, extend=\"both\")\n",
    "speed_obs.plot(ax=axs[1], cmap=\"speed_colorblind\", vmin=10, vmax=1500, extend=\"both\")\n",
    "(speed_sim-speed_obs).plot(ax=axs[2], cmap=\"RdBu_r\", vmin=-250, vmax=250, extend=\"both\")\n",
    "axs[0].set_title(\"Simulated\")\n",
    "axs[1].set_title(\"Observed\")\n",
    "axs[2].set_title(\"Simulated - Observed\")\n",
    "for ax in axs:\n",
    "    ax.set_axis_off()\n",
    "\n",
    "\n",
    "mae = xs.mae(speed_sim, speed_obs, skipna=True)\n",
    "\n",
    "print(\"Simulated - Observed:\")\n",
    "print(\"*\" * 80)\n",
    "print(\"\")\n",
    "print(f\"Mean Absolute Error: {mae:.1f} m/yr\")"
   ]
  },
  {
   "cell_type": "markdown",
   "id": "420600b5-f14e-4805-a2de-cde403903264",
   "metadata": {},
   "source": [
    "## Climate forcing\n",
    "\n",
    "Let's familiarize ourselves with the climate forcing"
   ]
  },
  {
   "cell_type": "code",
   "execution_count": null,
   "id": "83205969-4223-4baa-ba68-6f4f226f2e21",
   "metadata": {},
   "outputs": [],
   "source": [
    "fig, ax = plt.subplots(1, 1, figsize=(12, 3))\n",
    "climate_ds.sel({\"time\": slice(\"2015\", None)})[\"ice_surface_temp_anomaly\"].mean(dim=[\"x\", \"y\"]).plot(ax=ax, hue=\"gcm\")"
   ]
  },
  {
   "cell_type": "code",
   "execution_count": null,
   "id": "159a2fa6-bb27-4bfb-915e-97466c8f6a50",
   "metadata": {},
   "outputs": [],
   "source": [
    "anomaly_2090s = climate_ds.sel({\"time\": slice(\"2090\", \"2099\")}).mean(dim=\"time\")\n",
    "\n",
    "fig = anomaly_2090s[\"climatic_mass_balance_anomaly\"].plot(col=\"gcm\", vmin=-2500, vmax=2500, cmap=\"RdBu\", extend=\"both\", figsize=(8, 4)).fig\n",
    "for ax in fig.axes[:2]:\n",
    "    ax.set_axis_off()\n",
    "fig.suptitle(\"Climatic Mass Balance Anomaly Mean 2090-2099\")\n",
    "fig.subplots_adjust(top=0.85, right=0.8)\n",
    "fig = anomaly_2090s[\"ice_surface_temp_anomaly\"].plot(col=\"gcm\", cmap=\"Reds\", vmin=0, vmax=20, extend=\"max\", figsize=(8, 4)).fig\n",
    "for ax in fig.axes[:2]:\n",
    "    ax.set_axis_off()\n",
    "fig.suptitle(\"Ice Surface Temperature Anomaly Mean 2090-2099\")\n",
    "fig.subplots_adjust(top=0.85, right=0.8)"
   ]
  },
  {
   "cell_type": "markdown",
   "id": "60d4be76-1c54-4fca-8d14-d774a89cf30a",
   "metadata": {},
   "source": [
    "## Setting up the simulation\n",
    "\n",
    "At present, not all PISM functions are exposed via its python-API. We will thus use python dictionaries to set parameters, define the grid, choose the climate forcing, and so on. We will then translate the dictionaries into a `str` that we can run at the command line."
   ]
  },
  {
   "cell_type": "code",
   "execution_count": null,
   "id": "b2d2865a-930e-4a6b-9747-d8eced4479f0",
   "metadata": {},
   "outputs": [],
   "source": [
    "resolution = \"4500m\"\n",
    "output_dir = Path(\"test_run\")\n",
    "output_dir.mkdir(parents=True, exist_ok=True)\n",
    "\n",
    "extra_file = \"\"\n",
    "start = \"2015-01-01\"\n",
    "end = \"2099-12-31\"\n",
    "\n",
    "input_params = {\n",
    "    \"bootstrap\": \"\",\n",
    "    \"i\": \"initial_states/g1200m_id_BAYES-MEDIAN_1980-1-1_1984-12-31.nc\",\n",
    "    \"input.regrid.file\": \"initial_states/g1200m_id_BAYES-MEDIAN_1980-1-1_1984-12-31.nc\",\n",
    "    \"input.regrid.vars\": \"litho_temp,enthalpy,age,tillwat,bmelt,ice_area_specific_volume,thk\"\n",
    "}\n",
    "\n",
    "grid_params = {\n",
    "    \"grid.dx\": resolution,\n",
    "    \"grid.dy\": resolution,\n",
    "    \"grid.Mz\": 101,\n",
    "    \"grid.Lz\": 4000,\n",
    "    \"grid.Mbz\": 11,\n",
    "    \"grid.Lbz\": 1000,\n",
    "    \"input.regrid.vars\": \"litho_temp,enthalpy,age,tillwat,bmelt,ice_area_specific_volume,thk\"\n",
    "}\n",
    "\n",
    "time_params = {\n",
    "    \"time.start\": start,\n",
    "    \"time.end\": end,\n",
    "    \"time.calendar\": \"standard\",\n",
    "    \"time_stepping.skip.enabled\": \"\",\n",
    "    \"time_stepping.skip.max\": 100\n",
    "}\n",
    "\n",
    "climate_params = {\n",
    "    \"surface.models\": \"ismip6\",\n",
    "    \"surface.ismip6.reference_file\": \"ismip6/MARv3.9_ERAI_climate_1978-2018_MEAN.nc\",\n",
    "    \"surface.ismip6.file\": \"\"\n",
    "}\n",
    "\n",
    "stress_balance = {\n",
    "    \"stress.balance\": \"ssa+sia\",\n",
    "    \"stress_balance.calving_front_stress_bc\": \"\",  \n",
    "    \"stress_balance.ice_free_thickness_standard\": 5,\n",
    "    \"stress_balance.sia.bed_smoother.range\": resolution[:-1], \n",
    "    \"stress_balance.sia.enhancement_factor\": 2.608046,\n",
    "    \"stress_balance.sia.flow_law\": \"gpbld\",\n",
    "    \"stress_balance.ssa.Glen_exponent\": 3.309718,\n",
    "    \"stress_balance.ssa.enhancement_factor\": 1.0,\n",
    "    \"basal_resistance.pseudo_plastic.enabled\": \"\",\n",
    "    \"basal_resistance.pseudo_plastic.q\": 0.7508221,\n",
    "    \"basal_yield_stress.mohr_coulomb.till_effective_fraction_overburden\": 0.01845403,\n",
    "    \"basal_yield_stress.mohr_coulomb.topg_to_phi.enabled\": \"\",\n",
    "    \"basal_yield_stress.mohr_coulomb.topg_to_phi.phi_max\": 42.79528,\n",
    "    \"basal_yield_stress.mohr_coulomb.topg_to_phi.phi_min\": 7.193718, \n",
    "    \"basal_yield_stress.mohr_coulomb.topg_to_phi.topg_max\": 243.8239, \n",
    "    \"basal_yield_stress.mohr_coulomb.topg_to_phi.topg_min\": -369.6359, \n",
    "}\n",
    "\n",
    "output_params = {\n",
    "    \"output.extra.file\": extra_file,\n",
    "    \"output.extra.times\": \"yearly\",\n",
    "    \"output.extra.vars\": \"velsurf_mag,usurf,thk,climatic_mass_balance,ice_surface_temp,mask,mass_fluxes,ice_mass_transport_across_grounding_line,ice_mass\",\n",
    "    \"output.size\": \"none\"  # do not write a state file\n",
    "}\n",
    "\n",
    "run_dict = merge_dicts(input_params, grid_params, time_params, stress_balance,climate_params, output_params)"
   ]
  },
  {
   "cell_type": "markdown",
   "id": "445a8b84-15ef-4ffe-aa49-c66fefaad110",
   "metadata": {},
   "source": [
    "## Running PISM\n",
    "\n",
    "We perform two simulations, one using climate anomalies based on RCP 2.6 and other based on RCP 8.5."
   ]
  },
  {
   "cell_type": "code",
   "execution_count": null,
   "id": "30cba804-b271-4d50-b831-85f18f0f727b",
   "metadata": {},
   "outputs": [],
   "source": [
    "climate_files = [\"ismip6/MARv3.9_MIROC5-rcp26_climate_1960-2100_v1.nc\", \"ismip6/MARv3.9_MIROC5-rcp85_climate_1960-2100_v1.nc\"]\n",
    "\n",
    "n = 8\n",
    "for rcp, climate_file in zip([26, 85], climate_files):\n",
    "    extra_file = Path(output_dir) / f\"spatial_g{resolution}_rcp_{rcp}_{start}_{end}.nc\"\n",
    "    run_dict.update({\"surface.ismip6.file\": climate_file, \"output.extra.file\": extra_file})\n",
    "    run_str = dict2str(sort_dict_by_key(run_dict))\n",
    "    cmd = f\"mpirun -np {n} pism \" + run_str\n",
    "    ! $cmd"
   ]
  },
  {
   "cell_type": "markdown",
   "id": "e428444e-1790-4e7e-b783-c0e8147e6f78",
   "metadata": {},
   "source": [
    "## Results\n",
    "\n",
    "We collect the two files containing the spatial variables and open the files with `xarray`."
   ]
  },
  {
   "cell_type": "code",
   "execution_count": null,
   "id": "8f5003d5-5e9a-451b-9a12-9bae75c974d7",
   "metadata": {},
   "outputs": [],
   "source": [
    "spatial_files = Path(output_dir).glob(f\"spatial_g{resolution}_rcp_*{start}_{end}.nc\")\n",
    "spatial_ds = xr.open_mfdataset(spatial_files,                       \n",
    "                               preprocess=partial(preprocess_nc, regexp=\"rcp_(.+?)_\", dim=\"rcp\"),\n",
    "                               chunks=\"auto\",\n",
    "                               parallel=True,             \n",
    "                               decode_cf=True,\n",
    "                               decode_timedelta=True,\n",
    "                               combine=\"nested\",\n",
    "                               concat_dim=\"rcp\").sortby(\"rcp\").squeeze()\n"
   ]
  },
  {
   "cell_type": "markdown",
   "id": "70ad2a3b-e992-4897-bc4b-056342e180b8",
   "metadata": {},
   "source": [
    "### Scalar mass change\n",
    "\n",
    "Let's compare the total mass change from 2015-2100 for RCP 2.6 and RCP 8.5."
   ]
  },
  {
   "cell_type": "code",
   "execution_count": null,
   "id": "34cda403-1155-47a2-89d2-8b405f3df0ca",
   "metadata": {},
   "outputs": [],
   "source": [
    "fig, ax = plt.subplots(1, 1, figsize=(12, 3))\n",
    "ice_mass = spatial_ds.sel({\"time\": slice(\"2015\", None)})[\"ice_mass\"].sum(dim=[\"x\", \"y\"]).pint.quantify().pint.to(\"Gt\")\n",
    "ice_mass_scaled = ice_mass\n",
    "ice_mass_scaled -= ice_mass.isel({\"time\": 0})\n",
    "ice_mass_scaled.plot(ax=ax, hue=\"rcp\")"
   ]
  },
  {
   "cell_type": "markdown",
   "id": "4e6ab313-5726-45db-8ab2-4a93a247e89a",
   "metadata": {},
   "source": [
    "Both simulations actually *gain* mass until 2050, after which the RCP 8.5-based simulations starts to lose mass yet ending up with more mass in 2100 than 2015. This is clearly wrong.\n",
    "\n",
    "So what are the reasons?\n",
    "\n",
    "1. The grid resolution is too low: We are not *resolving* outlet glaciers, resulting in the simulation under-estimating `grounding line flux`.\n",
    "2. The *initial state* may have inconsistencies that lead to unphysical transients.\n",
    "\n",
    "We can address *grid resolution* by using HPC/HTC."
   ]
  },
  {
   "cell_type": "markdown",
   "id": "b4e271ce-2a30-4b58-8736-bce63f42fa3e",
   "metadata": {},
   "source": [
    "## References\n",
    "```{bibliography} references.bib\n",
    "```"
   ]
  }
 ],
 "metadata": {
  "kernelspec": {
   "display_name": "Python 3 (ipykernel)",
   "language": "python",
   "name": "python3"
  },
  "language_info": {
   "codemirror_mode": {
    "name": "ipython",
    "version": 3
   },
   "file_extension": ".py",
   "mimetype": "text/x-python",
   "name": "python",
   "nbconvert_exporter": "python",
   "pygments_lexer": "ipython3"
  }
 },
 "nbformat": 4,
 "nbformat_minor": 5
}
