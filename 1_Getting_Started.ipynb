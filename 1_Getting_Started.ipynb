{
 "cells": [
  {
   "cell_type": "markdown",
   "id": "2c25bf57-13d3-4e35-a0bb-e699cf6714de",
   "metadata": {},
   "source": [
    "# 1. Getting Started\n",
    "## An introduction to ice flow modeling with the Parallel Ice Sheet Model (PISM)\n",
    "\n",
    "*Author: Andy Aschwanden*"
   ]
  },
  {
   "cell_type": "code",
   "execution_count": null,
   "id": "a6ce80e5-0a64-45f2-b30b-efa8a20f0f61",
   "metadata": {},
   "outputs": [],
   "source": [
    "from functools import partial\n",
    "\n",
    "from pathlib import Path\n",
    "import matplotlib.pylab as plt\n",
    "from matplotlib import colors\n",
    "import numpy as np\n",
    "import xarray as xr\n",
    "import cf_xarray.units  # otherwise we get a Parser error\n",
    "import pint_xarray\n",
    "\n",
    "from pism_tutorials.download import download_files\n",
    "from pism_tutorials.plotting import register_colormaps\n",
    "from pism_tutorials.processing import preprocess_nc\n",
    "\n",
    "register_colormaps()\n",
    "xr.set_options(keep_attrs=True)"
   ]
  },
  {
   "cell_type": "code",
   "execution_count": null,
   "id": "1ca16c3c-d8c5-42ce-8cd0-8e4c1d79d1f6",
   "metadata": {},
   "outputs": [],
   "source": [
    "# The name of the PISM Cloud S3 bucket\n",
    "bucket_name = \"pism-cloud-data\""
   ]
  },
  {
   "cell_type": "code",
   "execution_count": null,
   "id": "7e483c5a-4e48-4934-b3da-2611fc36b8fd",
   "metadata": {},
   "outputs": [],
   "source": [
    "tutorial_files = {\"initial_state\": {\"path\": \"initial_states\", \"files\": [\"g1200m_id_BAYES-MEDIAN_1980-1-1_1984-12-31.nc\"]}, \n",
    "                  \"basal_heatflux\": {\"path\": \"bheatflux\", \"files\": [\"geothermal_heat_flow_map_10km.nc\"]},\n",
    "                  \"climate\": {\"path\": \"ismip6\", \"files\": [\"MARv3.9_MIROC5-rcp26_climate_1960-2100_v1.nc\", \"MARv3.9_MIROC5-rcp85_climate_1960-2100_v1.nc\"]},\n",
    "                  \"ocean\": {\"path\": \"ismip6\", \"files\": [\"MAR3.9_MIROC-ESM-CHEM_rcp26_ocean_1960-2100_v4.nc\", \"MAR3.9_MIROC-ESM-CHEM_rcp85_ocean_1960-2100_v4.nc\"]},\n",
    "                  \"grid\": {\"path\": \"grids\", \"files\": [\"pism-bedmachine.nc\"]}}\n",
    "\n",
    "to_download = []\n",
    "for forcing_type, forcing in tutorial_files.items():\n",
    "    for f in forcing[\"files\"]:\n",
    "        d = Path(forcing[\"path\"])\n",
    "        d.mkdir(parents=True, exist_ok=True)\n",
    "        p = d / Path(f)\n",
    "        to_download.append(str(p))\n"
   ]
  },
  {
   "cell_type": "code",
   "execution_count": null,
   "id": "64fcc1bb-20eb-46e8-8154-867568a03f28",
   "metadata": {},
   "outputs": [],
   "source": [
    "# Download files if not exist.\n",
    "# Set \"overwrite=True\" to overwrite existing files.\n",
    "download_files(bucket_name, to_download, overwrite=False)"
   ]
  },
  {
   "cell_type": "code",
   "execution_count": null,
   "id": "286568db-11ad-4443-9cb4-53b05cb68ecf",
   "metadata": {},
   "outputs": [],
   "source": [
    "init_file = Path(tutorial_files[\"initial_state\"][\"path\"]) / Path(tutorial_files[\"initial_state\"][\"files\"][0])\n",
    "init_ds = xr.open_dataset(init_file, decode_timedelta=True)\n",
    "\n",
    "climate_files = Path(tutorial_files[\"climate\"][\"path\"]).glob(\"*_climate_*.nc\")\n",
    "climate_ds = xr.open_mfdataset(climate_files,                       \n",
    "                               preprocess=partial(preprocess_nc, regexp=\"_(.+?)_\", dim=\"gcm\"),\n",
    "                               chunks=\"auto\",\n",
    "                               parallel=True,             \n",
    "                               decode_cf=True,\n",
    "                               decode_timedelta=True,\n",
    "                               combine=\"nested\",\n",
    "                               concat_dim=\"gcm\")\n",
    "\n",
    "climate_ds[\"climatic_mass_balance_anomaly\"] = climate_ds[\"climatic_mass_balance_anomaly\"].pint.quantify().pint.to(\"kg m-2 yr-1\")\n",
    "\n",
    "bhf_file = Path(tutorial_files[\"basal_heatflux\"][\"path\"]) / Path(tutorial_files[\"basal_heatflux\"][\"files\"][0])\n",
    "bhf_ds = xr.open_dataset(bhf_file, decode_timedelta=True)"
   ]
  },
  {
   "cell_type": "markdown",
   "id": "75ccc8dd-cb64-42c6-8b5b-6eb3fe9806ed",
   "metadata": {},
   "source": [
    "## Initial state\n",
    "\n",
    "Generating initial states that are compatible with observations and our understanding of ice flow is still an active area of research. For the purposes of this tutorial we use an initial state adapted from {cite}`Aschwanden2022`.\n",
    "\n",
    "```{bibliography}\n",
    "@article{Aschwanden2022,\n",
    "author = {Aschwanden, A. and Brinkerhoff, D. J.},\n",
    "doi = {10.1029/2022GL099058},\n",
    "file = {:Users/andy/Documents/Mendeley Desktop/Aschwanden, Brinkerhoff - 2022 - Calibrated Mass Loss Predictions for the Greenland Ice Sheet.pdf:pdf;:Users/andy/Documents/Mendeley Desktop/Aschwanden, Brinkerhoff - 2022 - Calibrated Mass Loss Predictions for the Greenland Ice Sheet(2).pdf:pdf},\n",
    "issn = {0094-8276},\n",
    "journal = {Geophysical Research Letters},\n",
    "keywords = {Bayesian calibration,Greenland,data assimilation,ice sheet modeling,sea level rise,uncertainty quantification},\n",
    "month = {oct},\n",
    "number = {19},\n",
    "title = {{Calibrated Mass Loss Predictions for the Greenland Ice Sheet}},\n",
    "url = {https://agupubs.onlinelibrary.wiley.com/doi/10.1029/2022GL099058},\n",
    "volume = {49},\n",
    "year = {2022}\n",
    "}\n",
    "```\n",
    "\n",
    "In summary, the inital state was obtained by combining an energy field from simulation spanning a glacial cycle, present day ice sheet geometry, and basal fields calibrated using present day surface speeds."
   ]
  },
  {
   "cell_type": "code",
   "execution_count": null,
   "id": "d027560d-5cdc-4236-8a01-ad2575bf187b",
   "metadata": {},
   "outputs": [],
   "source": [
    "fig, axs = plt.subplots(1, 3, sharex=True, sharey=True, figsize=(12, 4))\n",
    "init_ds[\"usurf\"].plot(ax=axs[0], cmap=\"bath_topo\", vmin=-500, vmax=2000, extend=\"both\")\n",
    "init_ds[\"topg\"].plot(ax=axs[1], cmap=\"bath_topo\", vmin=-500, vmax=2000, extend=\"both\")\n",
    "init_ds[\"thk\"].where(init_ds[\"thk\"] > 0).plot(ax=axs[2], cmap=\"managua\", vmax=3000, extend=\"max\")\n",
    "axs[0].set_title(\"ice surface elevation\")\n",
    "axs[1].set_title(\"sublacial topography\")\n",
    "axs[2].set_title(\"ice thickness\")\n",
    "for ax in axs:\n",
    "    ax.set_axis_off()"
   ]
  },
  {
   "cell_type": "markdown",
   "id": "520bd541-40a7-465a-9760-d8ce2298aeb0",
   "metadata": {},
   "source": [
    "Download `ITS_LIVE` Greenland Mosaic (if needed)."
   ]
  },
  {
   "cell_type": "code",
   "execution_count": null,
   "id": "eb73f716-99d1-4d01-91a4-df6cbfd1ceff",
   "metadata": {},
   "outputs": [],
   "source": [
    "itslive_file = \"GRE_G0240_0000.nc\"\n",
    "\n",
    "if not Path(itslive_file).is_file():\n",
    "    its_ds = xr.open_dataset(f\"s3://its-live-data/velocity_mosaic/v1/static/{itslive_file}\",\n",
    "                             decode_timedelta=True,\n",
    "                             chunks=\"auto\",\n",
    "                             engine=\"h5netcdf\",)[[\"v\"]]\n",
    "    its_ds.to_netcdf(itslive_file)\n",
    "    del its_ds\n",
    "\n",
    "itslive_ds = xr.open_dataset(itslive_file,\n",
    "                             decode_timedelta=True,\n",
    "                             engine=\"h5netcdf\",\n",
    ")"
   ]
  },
  {
   "cell_type": "code",
   "execution_count": null,
   "id": "ab81bc0e-f85f-4a5d-a20d-84a6344f2799",
   "metadata": {},
   "outputs": [],
   "source": [
    "speed_sim = init_ds[\"velsurf_mag\"]\n",
    "speed_obs = itslive_ds[\"v\"].interp_like(init_ds[\"velsurf_mag\"])\n",
    "\n",
    "fig, axs = plt.subplots(1, 3, sharex=True, sharey=True, figsize=(12, 4))\n",
    "speed_sim.plot(ax=axs[0], cmap=\"speed_colorblind\", vmin=10, vmax=1500, extend=\"both\")\n",
    "speed_obs.plot(ax=axs[1], cmap=\"speed_colorblind\", vmin=10, vmax=1500, extend=\"both\")\n",
    "(speed_sim-speed_obs).plot(ax=axs[2], cmap=\"RdBu_r\", vmin=-250, vmax=250, extend=\"both\")\n",
    "axs[0].set_title(\"Simulated\")\n",
    "axs[1].set_title(\"Observed\")\n",
    "axs[2].set_title(\"Simulated - Observed\")\n",
    "for ax in axs:\n",
    "    ax.set_axis_off()\n",
    "    "
   ]
  },
  {
   "cell_type": "markdown",
   "id": "420600b5-f14e-4805-a2de-cde403903264",
   "metadata": {},
   "source": [
    "## Climate forcing"
   ]
  },
  {
   "cell_type": "code",
   "execution_count": null,
   "id": "83205969-4223-4baa-ba68-6f4f226f2e21",
   "metadata": {},
   "outputs": [],
   "source": [
    "itslive_ds"
   ]
  },
  {
   "cell_type": "code",
   "execution_count": null,
   "id": "159a2fa6-bb27-4bfb-915e-97466c8f6a50",
   "metadata": {},
   "outputs": [],
   "source": [
    "anomaly_2090s = climate_ds.sel({\"time\": slice(\"2090\", \"2099\")}).mean(dim=\"time\")\n",
    "\n",
    "fig = anomaly_2090s[\"climatic_mass_balance_anomaly\"].plot(col=\"gcm\", vmin=-2500, vmax=2500, cmap=\"RdBu\", extend=\"both\", figsize=(8, 4)).fig\n",
    "for ax in fig.axes[:2]:\n",
    "    ax.set_axis_off()\n",
    "fig.suptitle(\"Climatic Mass Balance Anomaly Mean 2090-2099\")\n",
    "fig.subplots_adjust(top=0.85)\n",
    "fig = anomaly_2090s[\"ice_surface_temp_anomaly\"].plot(col=\"gcm\", cmap=\"Reds\", vmin=0, vmax=20, extend=\"max\", figsize=(8, 4)).fig\n",
    "for ax in fig.axes[:2]:\n",
    "    ax.set_axis_off()\n",
    "fig.suptitle(\"Ice Surface Temperature Anomaly Mean 2090-2099\")\n",
    "fig.subplots_adjust(top=0.85)\n"
   ]
  },
  {
   "cell_type": "code",
   "execution_count": null,
   "id": "d03065b7-7396-4c2a-bc1d-fcf0db144ee4",
   "metadata": {},
   "outputs": [],
   "source": [
    "f = \"mpirun -np 4 pism -eisII A -grid.Mx 101 -grid.My 101\"\n",
    "\n",
    "f = \"mpirun -np 8 pism -bootstrap  -time.calendar standard -time.start 2008-01-01 -time.end 2018-01-01 -surface.models ismip6 -surface.ismip6.reference_file g1200m_id_BAYES-MEDIAN_1980-1-1_1984-12-31.nc -surface.ismip6.file MARv3.9_ACCESS1.3-rcp85_climate_1960-2100_v1.nc  -i g1200m_id_BAYES-MEDIAN_1980-1-1_1984-12-31.nc  -input.regrid.file g1200m_id_BAYES-MEDIAN_1980-1-1_1984-12-31.nc -input.regrid.vars litho_temp,enthalpy,age,tillwat,bmelt,ice_area_specific_volume,thk -grid.file pism-bedmachine.nc -grid.dx 3600m -grid.dy 3600m -grid.Mz 101 -grid.Lz 4000 -grid.Mbz 11 -grid.Lbz 1000\""
   ]
  },
  {
   "cell_type": "code",
   "execution_count": null,
   "id": "8f175701-8b13-4335-8f64-b1ef6bc8b110",
   "metadata": {},
   "outputs": [],
   "source": [
    "!$f "
   ]
  },
  {
   "cell_type": "code",
   "execution_count": null,
   "id": "1aa79b32-cec1-43d1-a6b3-c47597ea86a8",
   "metadata": {},
   "outputs": [],
   "source": [
    "climate_ds.drop_vars([\"time_bnds\"]).pint.quantify()"
   ]
  },
  {
   "cell_type": "code",
   "execution_count": null,
   "id": "b2d2865a-930e-4a6b-9747-d8eced4479f0",
   "metadata": {},
   "outputs": [],
   "source": [
    "resolution = \"3600m\"\n",
    "\n",
    "grid_params = {\n",
    "    \"grid.dx\": resolution,\n",
    "    \"grid.dy\": resolution,\n",
    "    \"grid.Mz\": 101,\n",
    "    \"grid.Lz\": 4000,\n",
    "    \"grid.Mbz\": 11,\n",
    "    \"grid.Lbz\": 1000,\n",
    "    \"input.regrid.vars\": \"litho_temp,enthalpy,age,tillwat,bmelt,ice_area_specific_volume,thk\"\n",
    "}\n",
    "\n",
    "time_params = {\n",
    "    \"time.start\": \"2015-01-01\",\n",
    "    \"time.end\": \"2099-31-12\",\n",
    "}\n",
    "\n",
    "climate_params = {\n",
    "    \"surface.models\": \"ismip6\",\n",
    "    \"surface.ismip6.reference_file\": \"g1200m_id_BAYES-MEDIAN_1980-1-1_1984-12-31.nc\",\n",
    "    \"surface.ismip6.file\": \"MARv3.9_ACCESS1.3-rcp85_climate_1960-2100_v1.nc\"\n",
    "}"
   ]
  },
  {
   "cell_type": "code",
   "execution_count": null,
   "id": "3929f555-f82b-409e-9de7-ac8ab4fdc4ff",
   "metadata": {},
   "outputs": [],
   "source": [
    "def dicts2str(*args: dict) -> str:\n",
    "    \"\"\"\n",
    "    Convert one or more dictionaries into a single string of key-value pairs.\n",
    "\n",
    "    Each key-value pair is formatted as `-key value`, and dictionaries are\n",
    "    concatenated with a space between them.\n",
    "\n",
    "    Parameters\n",
    "    ----------\n",
    "    *args : dict\n",
    "        One or more dictionaries to be converted.\n",
    "\n",
    "    Returns\n",
    "    -------\n",
    "    str\n",
    "        A single string representation of the dictionaries.\n",
    "    \"\"\"\n",
    "    def d2s(d: dict) -> str:\n",
    "        return \" \".join(f\"-{k} {v}\" for k, v in d.items())\n",
    "\n",
    "    return \" \".join(d2s(d) for d in args if d)\n"
   ]
  },
  {
   "cell_type": "code",
   "execution_count": null,
   "id": "30cba804-b271-4d50-b831-85f18f0f727b",
   "metadata": {},
   "outputs": [],
   "source": [
    "dicts2str(grid_params, time_params)"
   ]
  },
  {
   "cell_type": "code",
   "execution_count": null,
   "id": "882f3b75-1f84-41af-aa16-49531bc05d5c",
   "metadata": {},
   "outputs": [],
   "source": []
  }
 ],
 "metadata": {
  "kernelspec": {
   "display_name": "Python 3 (ipykernel)",
   "language": "python",
   "name": "python3"
  },
  "language_info": {
   "codemirror_mode": {
    "name": "ipython",
    "version": 3
   },
   "file_extension": ".py",
   "mimetype": "text/x-python",
   "name": "python",
   "nbconvert_exporter": "python",
   "pygments_lexer": "ipython3"
  }
 },
 "nbformat": 4,
 "nbformat_minor": 5
}
